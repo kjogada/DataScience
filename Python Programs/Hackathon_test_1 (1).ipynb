{
 "cells": [
  {
   "cell_type": "markdown",
   "id": "325eaec4",
   "metadata": {},
   "source": [
    "# VSN Hackathon notebook"
   ]
  },
  {
   "cell_type": "markdown",
   "id": "a1e213a0",
   "metadata": {},
   "source": [
    "## Pre-requisites"
   ]
  },
  {
   "cell_type": "markdown",
   "id": "783c1761",
   "metadata": {},
   "source": [
    "The IAM role used to run this notebook should have below permissions\n",
    "\n",
    "1. S3 access to create/upload objects\n",
    "2. Bedrock full access\n",
    "3. Custom policy for opensearch serverless\n",
    "\n",
    "{\n",
    "  \"Version\": \"2012-10-17\",\n",
    "  \"Statement\": [\n",
    "      {\n",
    "          \"Effect\": \"Allow\",\n",
    "          \"Action\": \"aoss:*\",\n",
    "          \"Resource\": \"*\"\n",
    "      }\n",
    "  ]\n",
    "}"
   ]
  },
  {
   "cell_type": "code",
   "execution_count": 1,
   "id": "59a3d5b2",
   "metadata": {},
   "outputs": [
    {
     "name": "stdout",
     "output_type": "stream",
     "text": [
      "Requirement already satisfied: opensearch-py==2.3.1 in /opt/conda/lib/python3.11/site-packages (2.3.1)\n",
      "Requirement already satisfied: urllib3<2,>=1.21.1 in /opt/conda/lib/python3.11/site-packages (from opensearch-py==2.3.1) (1.26.19)\n",
      "Requirement already satisfied: requests<3.0.0,>=2.4.0 in /opt/conda/lib/python3.11/site-packages (from opensearch-py==2.3.1) (2.32.3)\n",
      "Requirement already satisfied: six in /opt/conda/lib/python3.11/site-packages (from opensearch-py==2.3.1) (1.16.0)\n",
      "Requirement already satisfied: python-dateutil in /opt/conda/lib/python3.11/site-packages (from opensearch-py==2.3.1) (2.9.0)\n",
      "Requirement already satisfied: certifi>=2022.12.07 in /opt/conda/lib/python3.11/site-packages (from opensearch-py==2.3.1) (2024.7.4)\n",
      "Requirement already satisfied: charset-normalizer<4,>=2 in /opt/conda/lib/python3.11/site-packages (from requests<3.0.0,>=2.4.0->opensearch-py==2.3.1) (3.3.2)\n",
      "Requirement already satisfied: idna<4,>=2.5 in /opt/conda/lib/python3.11/site-packages (from requests<3.0.0,>=2.4.0->opensearch-py==2.3.1) (3.7)\n",
      "Note: you may need to restart the kernel to use updated packages.\n",
      "Requirement already satisfied: boto3==1.33.2 in /opt/conda/lib/python3.11/site-packages (1.33.2)\n",
      "Requirement already satisfied: botocore<1.34.0,>=1.33.2 in /opt/conda/lib/python3.11/site-packages (from boto3==1.33.2) (1.33.13)\n",
      "Requirement already satisfied: jmespath<2.0.0,>=0.7.1 in /opt/conda/lib/python3.11/site-packages (from boto3==1.33.2) (1.0.1)\n",
      "Requirement already satisfied: s3transfer<0.9.0,>=0.8.0 in /opt/conda/lib/python3.11/site-packages (from boto3==1.33.2) (0.8.2)\n",
      "Requirement already satisfied: python-dateutil<3.0.0,>=2.1 in /opt/conda/lib/python3.11/site-packages (from botocore<1.34.0,>=1.33.2->boto3==1.33.2) (2.9.0)\n",
      "Requirement already satisfied: urllib3<2.1,>=1.25.4 in /opt/conda/lib/python3.11/site-packages (from botocore<1.34.0,>=1.33.2->boto3==1.33.2) (1.26.19)\n",
      "Requirement already satisfied: six>=1.5 in /opt/conda/lib/python3.11/site-packages (from python-dateutil<3.0.0,>=2.1->botocore<1.34.0,>=1.33.2->boto3==1.33.2) (1.16.0)\n",
      "Note: you may need to restart the kernel to use updated packages.\n",
      "Requirement already satisfied: retrying==1.3.4 in /opt/conda/lib/python3.11/site-packages (1.3.4)\n",
      "Requirement already satisfied: six>=1.7.0 in /opt/conda/lib/python3.11/site-packages (from retrying==1.3.4) (1.16.0)\n",
      "Note: you may need to restart the kernel to use updated packages.\n"
     ]
    }
   ],
   "source": [
    "# Ensure necessary packages are installed\n",
    "%pip install -U opensearch-py==2.3.1\n",
    "%pip install -U boto3==1.33.2\n",
    "%pip install -U retrying==1.3.4\n",
    "# Restart kernel"
   ]
  },
  {
   "cell_type": "code",
   "execution_count": 2,
   "id": "4cf66554",
   "metadata": {},
   "outputs": [],
   "source": [
    "import json\n",
    "import os\n",
    "import boto3\n",
    "from botocore.exceptions import ClientError\n",
    "import pprint\n",
    "from utility import create_bedrock_execution_role, create_oss_policy_attach_bedrock_execution_role, create_policies_in_oss, interactive_sleep\n",
    "import random\n",
    "from retrying import retry\n",
    "\n",
    "sts_client = boto3.client('sts')\n",
    "boto3_session = boto3.session.Session()\n",
    "region_name = boto3_session.region_name\n",
    "bedrock_agent_client = boto3_session.client('bedrock-agent', region_name=region_name)\n",
    "service = 'aoss'\n",
    "s3_client = boto3.client('s3')"
   ]
  },
  {
   "cell_type": "code",
   "execution_count": 3,
   "id": "7649d84a",
   "metadata": {},
   "outputs": [],
   "source": [
    "#Create s3 bucket for storing Knowledge base\n",
    "\n",
    "bucket_name = 'hackathon-vsn-bedrock-kb'\n",
    "s3bucket = s3_client.create_bucket(Bucket=bucket_name)"
   ]
  },
  {
   "cell_type": "markdown",
   "id": "d06f8e13",
   "metadata": {},
   "source": [
    "## Create a vector store - OpenSearch Serverless index\n",
    "## Step 1 - Create OSS policies and collection \n"
   ]
  },
  {
   "cell_type": "code",
   "execution_count": 4,
   "id": "f6dd5745",
   "metadata": {},
   "outputs": [],
   "source": [
    "import boto3\n",
    "import time\n",
    "vector_store_name = 'hackathon-sample-rag'\n",
    "index_name = 'hackathon-bedrock-sample-rag-index'\n",
    "aoss_client = boto3_session.client('opensearchserverless')\n",
    "bedrock_kb_execution_role = create_bedrock_execution_role(bucket_name=bucket_name)\n",
    "bedrock_kb_execution_role_arn = bedrock_kb_execution_role['Role']['Arn']"
   ]
  },
  {
   "cell_type": "code",
   "execution_count": 5,
   "id": "9b42b773",
   "metadata": {},
   "outputs": [],
   "source": [
    "# create security, network and data access policies within OSS\n",
    "encryption_policy, network_policy, access_policy = create_policies_in_oss(vector_store_name=vector_store_name,\n",
    "                       aoss_client=aoss_client,\n",
    "                       bedrock_kb_execution_role_arn=bedrock_kb_execution_role_arn)\n",
    "collection = aoss_client.create_collection(name=vector_store_name,type='VECTORSEARCH')"
   ]
  },
  {
   "cell_type": "code",
   "execution_count": 6,
   "id": "42ad5b84",
   "metadata": {},
   "outputs": [
    {
     "name": "stdout",
     "output_type": "stream",
     "text": [
      "{'createCollectionDetail': {'arn': 'arn:aws:aoss:us-east-1:814180930505:collection/qu32cw1yb8mqdg0w0fpd', 'createdDate': 1728212750986, 'id': 'qu32cw1yb8mqdg0w0fpd', 'kmsKeyArn': 'auto', 'lastModifiedDate': 1728212750986, 'name': 'hackathon-sample-rag', 'standbyReplicas': 'ENABLED', 'status': 'CREATING', 'type': 'VECTORSEARCH'}, 'ResponseMetadata': {'RequestId': 'a440858c-2e5e-4f5a-86ad-5442357db68e', 'HTTPStatusCode': 200, 'HTTPHeaders': {'x-amzn-requestid': 'a440858c-2e5e-4f5a-86ad-5442357db68e', 'date': 'Sun, 06 Oct 2024 11:05:51 GMT', 'content-type': 'application/x-amz-json-1.0', 'content-length': '312', 'connection': 'keep-alive'}, 'RetryAttempts': 0}}\n"
     ]
    }
   ],
   "source": [
    "print(collection)"
   ]
  },
  {
   "cell_type": "code",
   "execution_count": 7,
   "id": "186075c6",
   "metadata": {},
   "outputs": [
    {
     "name": "stdout",
     "output_type": "stream",
     "text": [
      "qu32cw1yb8mqdg0w0fpd.us-east-1.aoss.amazonaws.com\n"
     ]
    }
   ],
   "source": [
    "# Get the OpenSearch serverless collection URL\n",
    "collection_id = collection['createCollectionDetail']['id']\n",
    "host = collection_id + '.' + region_name + '.aoss.amazonaws.com'\n",
    "print(host)"
   ]
  },
  {
   "cell_type": "code",
   "execution_count": 9,
   "id": "4cfb71c2",
   "metadata": {},
   "outputs": [
    {
     "name": "stdout",
     "output_type": "stream",
     "text": [
      "[{'arn': 'arn:aws:aoss:us-east-1:814180930505:collection/qu32cw1yb8mqdg0w0fpd', 'collectionEndpoint': 'https://qu32cw1yb8mqdg0w0fpd.us-east-1.aoss.amazonaws.com', 'createdDate': 1728212750986, 'dashboardEndpoint': 'https://qu32cw1yb8mqdg0w0fpd.us-east-1.aoss.amazonaws.com/_dashboards', 'id': 'qu32cw1yb8mqdg0w0fpd', 'kmsKeyArn': 'auto', 'lastModifiedDate': 1728212774797, 'name': 'hackathon-sample-rag', 'standbyReplicas': 'ENABLED', 'status': 'ACTIVE', 'type': 'VECTORSEARCH'}]\n"
     ]
    }
   ],
   "source": [
    "# wait for collection creation\n",
    "# This can take couple of minutes to finish\n",
    "response = aoss_client.batch_get_collection(names=[vector_store_name])\n",
    "print(response[\"collectionDetails\"])"
   ]
  },
  {
   "cell_type": "code",
   "execution_count": 10,
   "id": "97a20955",
   "metadata": {},
   "outputs": [
    {
     "name": "stdout",
     "output_type": "stream",
     "text": [
      "Opensearch serverless arn:  arn:aws:iam::814180930505:policy/AmazonBedrockOSSPolicyForKnowledgeBase_214\n"
     ]
    }
   ],
   "source": [
    "# create opensearch serverless access policy and attach it to Bedrock execution role\n",
    "try:\n",
    "    create_oss_policy_attach_bedrock_execution_role(collection_id=collection_id,\n",
    "                                                    bedrock_kb_execution_role=bedrock_kb_execution_role)\n",
    "    # It can take up to a minute for data access rules to be enforced\n",
    "except Exception as e:\n",
    "    print(e)"
   ]
  },
  {
   "cell_type": "markdown",
   "id": "f538f443",
   "metadata": {},
   "source": [
    "## Step 2 - Create vector index"
   ]
  },
  {
   "cell_type": "code",
   "execution_count": 11,
   "id": "fd8a6858",
   "metadata": {},
   "outputs": [],
   "source": [
    "# Create the vector index in Opensearch serverless, with the knn_vector field index mapping, specifying the dimension size, name and engine.\n",
    "from opensearchpy import OpenSearch, RequestsHttpConnection, AWSV4SignerAuth, RequestError\n",
    "credentials = boto3.Session().get_credentials()\n",
    "awsauth = auth = AWSV4SignerAuth(credentials, region_name, service)\n",
    "\n",
    "index_name = 'hackathon-bedrock-sample-rag-index'\n",
    "body_json = {\n",
    "   \"settings\": {\n",
    "      \"index.knn\": \"true\",\n",
    "       \"number_of_shards\": 1,\n",
    "       \"knn.algo_param.ef_search\": 512,\n",
    "       \"number_of_replicas\": 0,\n",
    "   },\n",
    "   \"mappings\": {\n",
    "      \"properties\": {\n",
    "         \"vector\": {\n",
    "            \"type\": \"knn_vector\",\n",
    "            \"dimension\": 1536,\n",
    "             \"method\": {\n",
    "                 \"name\": \"hnsw\",\n",
    "                 \"engine\": \"faiss\",\n",
    "                 \"space_type\": \"l2\"\n",
    "             },\n",
    "         },\n",
    "         \"text\": {\n",
    "            \"type\": \"text\"\n",
    "         },\n",
    "         \"text-metadata\": {\n",
    "            \"type\": \"text\"         }\n",
    "      }\n",
    "   }\n",
    "}\n",
    "\n",
    "# Build the OpenSearch client\n",
    "oss_client = OpenSearch(\n",
    "    hosts=[{'host': host, 'port': 443}],\n",
    "    http_auth=awsauth,\n",
    "    use_ssl=True,\n",
    "    verify_certs=True,\n",
    "    connection_class=RequestsHttpConnection,\n",
    "    timeout=300\n",
    ")\n"
   ]
  },
  {
   "cell_type": "code",
   "execution_count": 12,
   "id": "7dbb8f9c",
   "metadata": {},
   "outputs": [
    {
     "name": "stdout",
     "output_type": "stream",
     "text": [
      "\n",
      "Creating index:\n",
      "{'acknowledged': True, 'shards_acknowledged': True, 'index': 'hackathon-bedrock-sample-rag-index'}\n"
     ]
    }
   ],
   "source": [
    "# Create index\n",
    "try:\n",
    "    response = oss_client.indices.create(index=index_name, body=json.dumps(body_json))\n",
    "    print('\\nCreating index:')\n",
    "    print(response)\n",
    "\n",
    "    # index creation can take up to a minute\n",
    "except RequestError as e:\n",
    "    # you can delete the index if its already exists\n",
    "    # oss_client.indices.delete(index=index_name)\n",
    "    print(f'Error while trying to create the index, with error {e.error}\\nyou may unmark the delete above to delete, and recreate the index')\n",
    "    "
   ]
  },
  {
   "cell_type": "markdown",
   "id": "9b0a1076",
   "metadata": {},
   "source": [
    "## Create Knowledge Base\n",
    "## Pre-requisite Upload data to s3"
   ]
  },
  {
   "cell_type": "code",
   "execution_count": 15,
   "id": "46714817",
   "metadata": {},
   "outputs": [],
   "source": [
    "\n",
    "\n",
    "opensearchServerlessConfiguration = {\n",
    "            \"collectionArn\": collection[\"createCollectionDetail\"]['arn'],\n",
    "            \"vectorIndexName\": index_name,\n",
    "            \"fieldMapping\": {\n",
    "                \"vectorField\": \"vector\",\n",
    "                \"textField\": \"text\",\n",
    "                \"metadataField\": \"text-metadata\"\n",
    "            }\n",
    "        }\n",
    "\n",
    "# Ingest strategy - How to ingest data from the data source\n",
    "chunkingStrategyConfiguration = {\n",
    "    \"chunkingStrategy\": \"FIXED_SIZE\",\n",
    "    \"fixedSizeChunkingConfiguration\": {\n",
    "        \"maxTokens\": 512,\n",
    "        \"overlapPercentage\": 20\n",
    "    }\n",
    "}\n",
    "\n",
    "# The data source to ingest documents from, into the OpenSearch serverless knowledge base index\n",
    "s3Configuration = {\n",
    "    \"bucketArn\": f\"arn:aws:s3:::{bucket_name}\",\n",
    "    # \"inclusionPrefixes\":[\"*.*\"] # you can use this if you want to create a KB using data within s3 prefixes.\n",
    "}\n",
    "\n",
    "# The embedding model used by Bedrock to embed ingested documents, and realtime prompts\n",
    "embeddingModelArn = f\"arn:aws:bedrock:{region_name}::foundation-model/amazon.titan-embed-text-v1\"\n",
    "\n",
    "name = \"hackathon-bedrock-sample-knowledge-base\"\n",
    "description = \"Banta Claws\"\n",
    "roleArn = bedrock_kb_execution_role_arn\n"
   ]
  },
  {
   "cell_type": "code",
   "execution_count": 16,
   "id": "03da8477",
   "metadata": {},
   "outputs": [],
   "source": [
    "# Create a KnowledgeBase\n",
    "from retrying import retry\n",
    "\n",
    "@retry(wait_random_min=1000, wait_random_max=2000,stop_max_attempt_number=7)\n",
    "def create_knowledge_base_func():\n",
    "    create_kb_response = bedrock_agent_client.create_knowledge_base(\n",
    "        name = name,\n",
    "        description = description,\n",
    "        roleArn = roleArn,\n",
    "        knowledgeBaseConfiguration = {\n",
    "            \"type\": \"VECTOR\",\n",
    "            \"vectorKnowledgeBaseConfiguration\": {\n",
    "                \"embeddingModelArn\": embeddingModelArn\n",
    "            }\n",
    "        },\n",
    "        storageConfiguration = {\n",
    "            \"type\": \"OPENSEARCH_SERVERLESS\",\n",
    "            \"opensearchServerlessConfiguration\":opensearchServerlessConfiguration\n",
    "        }\n",
    "    )\n",
    "    return create_kb_response[\"knowledgeBase\"]"
   ]
  },
  {
   "cell_type": "code",
   "execution_count": 17,
   "id": "fb3c5cfa",
   "metadata": {},
   "outputs": [],
   "source": [
    "try:\n",
    "    kb = create_knowledge_base_func()\n",
    "except Exception as err:\n",
    "    print(f\"{err=}, {type(err)=}\")"
   ]
  },
  {
   "cell_type": "code",
   "execution_count": 18,
   "id": "86a9789f",
   "metadata": {},
   "outputs": [],
   "source": [
    "# Get KnowledgeBase \n",
    "get_kb_response = bedrock_agent_client.get_knowledge_base(knowledgeBaseId = kb['knowledgeBaseId'])"
   ]
  },
  {
   "cell_type": "code",
   "execution_count": 19,
   "id": "cc829abd",
   "metadata": {},
   "outputs": [
    {
     "name": "stdout",
     "output_type": "stream",
     "text": [
      "{'knowledgeBaseId': 'ES25YKLMDG', 'dataSourceId': 'PHGYIKP84F', 'name': 'hackathon-bedrock-sample-knowledge-base', 'status': 'AVAILABLE', 'description': 'Banta Claws', 'dataSourceConfiguration': {'type': 'S3', 's3Configuration': {'bucketArn': 'arn:aws:s3:::hackathon-vsn-bedrock-kb'}}, 'vectorIngestionConfiguration': {'chunkingConfiguration': {'chunkingStrategy': 'FIXED_SIZE', 'fixedSizeChunkingConfiguration': {'maxTokens': 512, 'overlapPercentage': 20}}}, 'createdAt': datetime.datetime(2024, 10, 6, 11, 10, 46, 551576, tzinfo=tzlocal()), 'updatedAt': datetime.datetime(2024, 10, 6, 11, 10, 46, 551576, tzinfo=tzlocal())}\n"
     ]
    }
   ],
   "source": [
    "# Create a DataSource in KnowledgeBase \n",
    "create_ds_response = bedrock_agent_client.create_data_source(\n",
    "    name = name,\n",
    "    description = description,\n",
    "    knowledgeBaseId = kb['knowledgeBaseId'],\n",
    "    dataSourceConfiguration = {\n",
    "        \"type\": \"S3\",\n",
    "        \"s3Configuration\":s3Configuration\n",
    "    },\n",
    "    vectorIngestionConfiguration = {\n",
    "        \"chunkingConfiguration\": chunkingStrategyConfiguration\n",
    "    }\n",
    ")\n",
    "ds = create_ds_response[\"dataSource\"]\n",
    "print(ds)"
   ]
  },
  {
   "cell_type": "code",
   "execution_count": 20,
   "id": "3f9479de",
   "metadata": {},
   "outputs": [
    {
     "data": {
      "text/plain": [
       "{'ResponseMetadata': {'RequestId': 'df64bb5a-5de9-4642-9e7f-d3e2116533e9',\n",
       "  'HTTPStatusCode': 200,\n",
       "  'HTTPHeaders': {'date': 'Sun, 06 Oct 2024 11:10:51 GMT',\n",
       "   'content-type': 'application/json',\n",
       "   'content-length': '570',\n",
       "   'connection': 'keep-alive',\n",
       "   'x-amzn-requestid': 'df64bb5a-5de9-4642-9e7f-d3e2116533e9',\n",
       "   'x-amz-apigw-id': 'fOZ5WGCBoAMEgqA=',\n",
       "   'x-amzn-trace-id': 'Root=1-6702703b-7d7a07537f036e5b56314fe8'},\n",
       "  'RetryAttempts': 0},\n",
       " 'dataSource': {'knowledgeBaseId': 'ES25YKLMDG',\n",
       "  'dataSourceId': 'PHGYIKP84F',\n",
       "  'name': 'hackathon-bedrock-sample-knowledge-base',\n",
       "  'status': 'AVAILABLE',\n",
       "  'description': 'Banta Claws',\n",
       "  'dataSourceConfiguration': {'type': 'S3',\n",
       "   's3Configuration': {'bucketArn': 'arn:aws:s3:::hackathon-vsn-bedrock-kb'}},\n",
       "  'vectorIngestionConfiguration': {'chunkingConfiguration': {'chunkingStrategy': 'FIXED_SIZE',\n",
       "    'fixedSizeChunkingConfiguration': {'maxTokens': 512,\n",
       "     'overlapPercentage': 20}}},\n",
       "  'createdAt': datetime.datetime(2024, 10, 6, 11, 10, 46, 551576, tzinfo=tzlocal()),\n",
       "  'updatedAt': datetime.datetime(2024, 10, 6, 11, 10, 46, 551576, tzinfo=tzlocal())}}"
      ]
     },
     "execution_count": 20,
     "metadata": {},
     "output_type": "execute_result"
    }
   ],
   "source": [
    "# Get DataSource \n",
    "bedrock_agent_client.get_data_source(knowledgeBaseId = kb['knowledgeBaseId'], dataSourceId = ds[\"dataSourceId\"])"
   ]
  },
  {
   "cell_type": "code",
   "execution_count": 22,
   "id": "59d84b01",
   "metadata": {},
   "outputs": [
    {
     "name": "stdout",
     "output_type": "stream",
     "text": [
      "{'knowledgeBaseId': 'ES25YKLMDG', 'dataSourceId': 'PHGYIKP84F', 'ingestionJobId': '0XCHJOWX8J', 'status': 'STARTING', 'statistics': {'numberOfDocumentsScanned': 0, 'numberOfNewDocumentsIndexed': 0, 'numberOfModifiedDocumentsIndexed': 0, 'numberOfDocumentsDeleted': 0, 'numberOfDocumentsFailed': 0}, 'startedAt': datetime.datetime(2024, 10, 6, 11, 11, 4, 566654, tzinfo=tzlocal()), 'updatedAt': datetime.datetime(2024, 10, 6, 11, 11, 4, 566654, tzinfo=tzlocal())}\n"
     ]
    }
   ],
   "source": [
    "# Start an ingestion job\n",
    "start_job_response = bedrock_agent_client.start_ingestion_job(knowledgeBaseId = kb['knowledgeBaseId'], dataSourceId = ds[\"dataSourceId\"])\n",
    "job = start_job_response[\"ingestionJob\"]8a\n",
    "print(job)"
   ]
  },
  {
   "cell_type": "code",
   "execution_count": 23,
   "id": "7735497b",
   "metadata": {},
   "outputs": [
    {
     "name": "stdout",
     "output_type": "stream",
     "text": [
      "{'knowledgeBaseId': 'ES25YKLMDG', 'dataSourceId': 'PHGYIKP84F', 'ingestionJobId': '0XCHJOWX8J', 'status': 'COMPLETE', 'statistics': {'numberOfDocumentsScanned': 1, 'numberOfNewDocumentsIndexed': 0, 'numberOfModifiedDocumentsIndexed': 0, 'numberOfDocumentsDeleted': 0, 'numberOfDocumentsFailed': 0}, 'startedAt': datetime.datetime(2024, 10, 6, 11, 11, 4, 566654, tzinfo=tzlocal()), 'updatedAt': datetime.datetime(2024, 10, 6, 11, 11, 5, 580457, tzinfo=tzlocal())}\n"
     ]
    }
   ],
   "source": [
    "# Get job \n",
    "while(job['status']!='COMPLETE' ):\n",
    "    get_job_response = bedrock_agent_client.get_ingestion_job(\n",
    "      knowledgeBaseId = kb['knowledgeBaseId'],\n",
    "        dataSourceId = ds[\"dataSourceId\"],\n",
    "        ingestionJobId = job[\"ingestionJobId\"]\n",
    "  )\n",
    "    job = get_job_response[\"ingestionJob\"]\n",
    "    \n",
    "\n",
    "\n",
    "print(job)"
   ]
  },
  {
   "cell_type": "code",
   "execution_count": 24,
   "id": "2165b46a",
   "metadata": {},
   "outputs": [
    {
     "name": "stdout",
     "output_type": "stream",
     "text": [
      "ES25YKLMDG\n"
     ]
    }
   ],
   "source": [
    "# Print the knowledge base Id in bedrock, that corresponds to the Opensearch index in the collection we created before, we will use it for the invocation later\n",
    "kb_id = kb[\"knowledgeBaseId\"]\n",
    "print(kb_id)"
   ]
  },
  {
   "cell_type": "markdown",
   "id": "433c3922",
   "metadata": {},
   "source": [
    "## RetreiveAndGenerate API"
   ]
  },
  {
   "cell_type": "code",
   "execution_count": 25,
   "id": "83829ddd",
   "metadata": {},
   "outputs": [],
   "source": [
    "import boto3\n",
    "import pprint\n",
    "from botocore.client import Config\n",
    "\n",
    "pp = pprint.PrettyPrinter(indent=2)\n",
    "\n",
    "bedrock_config = Config(connect_timeout=120, read_timeout=120, retries={'max_attempts': 0})\n",
    "bedrock_client = boto3.client('bedrock-runtime')\n",
    "bedrock_agent_client = boto3.client(\"bedrock-agent-runtime\",\n",
    "                              config=bedrock_config)\n",
    "boto3_session = boto3.session.Session()\n",
    "region_name = boto3_session.region_name\n",
    "\n",
    "model_id = \"anthropic.claude-3-haiku-20240307-v1:0\" # try with both claude 3 Haiku as well as claude 3 Sonnet. for claude 3 Sonnet - \"anthropic.claude-3-sonnet-20240229-v1:0\"\n",
    "region_id = region_name # replace it with the region you're running sagemaker notebook"
   ]
  },
  {
   "cell_type": "code",
   "execution_count": 26,
   "id": "97b719b5",
   "metadata": {},
   "outputs": [],
   "source": [
    "def retrieveAndGenerate(input, kbId, sessionId=None, model_id = \"anthropic.claude-3-haiku-20240307-v1:0\", region_id = \"us-east-1\"):\n",
    "    model_arn = f'arn:aws:bedrock:{region_id}::foundation-model/{model_id}'\n",
    "    if sessionId:\n",
    "        return bedrock_agent_client.retrieve_and_generate(\n",
    "            input={\n",
    "                'text': input\n",
    "            },\n",
    "            retrieveAndGenerateConfiguration={\n",
    "                'type': 'KNOWLEDGE_BASE',\n",
    "                'knowledgeBaseConfiguration': {\n",
    "                    'knowledgeBaseId': kbId,\n",
    "                    'modelArn': model_arn\n",
    "                }\n",
    "            },\n",
    "            sessionId=sessionId\n",
    "        )\n",
    "    else:\n",
    "        return bedrock_agent_client.retrieve_and_generate(\n",
    "            input={\n",
    "                'text': input\n",
    "            },\n",
    "            retrieveAndGenerateConfiguration={\n",
    "                'type': 'KNOWLEDGE_BASE',\n",
    "                'knowledgeBaseConfiguration': {\n",
    "                    'knowledgeBaseId': kbId,\n",
    "                    'modelArn': model_arn\n",
    "                }\n",
    "            }\n",
    "        )"
   ]
  },
  {
   "cell_type": "code",
   "execution_count": 27,
   "id": "35f703e4",
   "metadata": {},
   "outputs": [
    {
     "name": "stdout",
     "output_type": "stream",
     "text": [
      "Banta Claws is a character that the narrator believed in as a child, who is described as bringing gifts to children on Christmas Eve. According to the search results, Banta Claws is the narrator's version of Santa Claus, who has a workshop at the North Pole where he and his elves make toys throughout the year. On Christmas Eve, Banta Claws is said to bring the gifts to children's homes, traditionally coming down the chimney to leave the gifts near the Christmas tree.\n"
     ]
    }
   ],
   "source": [
    "query = \"Who is Banta Claws?\"\n",
    "response = retrieveAndGenerate(query, kb_id,model_id=model_id,region_id=region_id)\n",
    "generated_text = response['output']['text']\n",
    "print(generated_text)"
   ]
  },
  {
   "cell_type": "code",
   "execution_count": 28,
   "id": "068faf56",
   "metadata": {},
   "outputs": [
    {
     "name": "stdout",
     "output_type": "stream",
     "text": [
      "['So, I decided I will place a Christmas tree this  year so I even I could get a gift from Banta. But there was one small problem, my home does not  have a chimney\\uf04a . I went to my mom and asked “Amma, I want a chimney in my room” She was  confused and thought it was some new toy, so she asked me again “You want a WHAT?” I said  “Chimney, Banta Claws will come through it” She laughed and said “Beta, Banta can come through  the window also, he doesn’t need a chimney for that”. I agreed reluctantly.    Finally, the Christmas Eve had come, I decorated a Christmas tree with stars and lights, I had placed  some milk and cookies for Banta to have, and wrote a small note of what I wanted as a gift from  Banta! I placed the note inside a small sock and hanged the sock to the Christmas tree. Just like it  was all shown in the children’s books which I used to read, and I went to sleep.    On that night my mom had placed the gift which she had purchased earlier, along with the note in  the wooden box in my room without me knowing because she did not want to see me disappointed.  As children everyone has a wide imaginations. The parent’s duty is make their wishes come true  even if it seems very silly. Because that is what makes them chase after their dreams when they  grow up.', 'Speech3: The day I got a gift from Banta Claws!        I still remember that day when I was just 10 year old child, I woke up early in the morning the day  after Christmas Eve. I immediately rushed towards the corner of the room where I had placed a  wooden box. I opened the box, inside it was a gift from Banta Claws!    I jumped with joy by just by the sight of it. Finally my wish came true. Along with the gift there was  also a note which read “Karthik, my elves told me you were a good boy this year, here is a gift for  you. Merry Christmas! – Banta”. I ran to the kitchen holding the gift, “Amma! Amma! See I told you  Banta was real! Look I got a gift from him!” Such a wonderful feeling it was.    I always wanted a gift from Banta, I had read a lot of stories about Banta Claws in children’s book  and in movies. He had a workshop in North Pole where Banta and his millions of elves made toys  throughout the year. When it was time for Christmas Banta used to bring all the toys for the children  in a sleigh pulled by reindeers through the night sky. When everyone is sleeping, Banta comes into  the house through the “chimney”, places the gifts next to the Christmas tree and vanishes. In olden  days all houses used to have chimneys in western countries where people used to light fire to keep  themselves warm in winter.     As a small child I believed all these stories were true. And I thought since we never decorated a  Christmas tree earlier, I never got a gift from Banta. So, I decided I will place a Christmas tree this  year so I even I could get a gift from Banta. But there was one small problem, my home does not  have a chimney\\uf04a . I went to my mom and asked “Amma, I want a chimney in my room” She was  confused and thought it was some new toy, so she asked me again “You want a WHAT?” I said  “Chimney, Banta Claws will come through it” She laughed and said “Beta, Banta can come through  the window also, he doesn’t need a chimney for that”. I agreed reluctantly.']\n"
     ]
    }
   ],
   "source": [
    "citations = response[\"citations\"]\n",
    "contexts = []\n",
    "for citation in citations:\n",
    "    retrievedReferences = citation[\"retrievedReferences\"]\n",
    "    for reference in retrievedReferences:\n",
    "         contexts.append(reference[\"content\"][\"text\"])\n",
    "\n",
    "print(contexts)"
   ]
  },
  {
   "cell_type": "code",
   "execution_count": 29,
   "id": "5da125fa-731b-4580-a38b-9747c1828b06",
   "metadata": {},
   "outputs": [
    {
     "name": "stdout",
     "output_type": "stream",
     "text": [
      "On Christmas Eve, the narrator decorated a Christmas tree with stars and lights, placed some milk and cookies for Banta (Santa Claus) to have, and wrote a small note of what he wanted as a gift from Banta. He placed the note inside a small sock and hung the sock on the Christmas tree.\n"
     ]
    }
   ],
   "source": [
    "query = \"What did the Narrator do on Christmas eve?\"\n",
    "response = retrieveAndGenerate(query, kb_id,model_id=model_id,region_id=region_id)\n",
    "generated_text = response['output']['text']\n",
    "print(generated_text)"
   ]
  },
  {
   "cell_type": "code",
   "execution_count": 30,
   "id": "ba6e19b3-49ee-4ad4-a94b-3cf902d267ff",
   "metadata": {},
   "outputs": [
    {
     "name": "stdout",
     "output_type": "stream",
     "text": [
      "Based on the search results, the story describes a young boy named Karthik who woke up on Christmas morning and found a gift from \"Banta Claws\" (Santa Claus) in a wooden box in his room. Karthik had placed a Christmas tree and a note for Santa, hoping to receive a gift, even though his home did not have a chimney. Karthik's mother had secretly placed the gift and note in the box, not wanting to disappoint him.\n"
     ]
    }
   ],
   "source": [
    "query = \"Elaborate your answer\"\n",
    "response = retrieveAndGenerate(query, kb_id,model_id=model_id,region_id=region_id)\n",
    "generated_text = response['output']['text']\n",
    "print(generated_text)"
   ]
  },
  {
   "cell_type": "code",
   "execution_count": 33,
   "id": "6d2ad914-cf9c-44f0-8651-74667c5e08d8",
   "metadata": {},
   "outputs": [],
   "source": [
    "def retrieve(query, kbId, numberOfResults=5):\n",
    "    return bedrock_agent_client.retrieve(\n",
    "        retrievalQuery= {\n",
    "            'text': query\n",
    "        },\n",
    "        knowledgeBaseId=kbId,\n",
    "        retrievalConfiguration= {\n",
    "            'vectorSearchConfiguration': {\n",
    "                'numberOfResults': numberOfResults,\n",
    "                #'overrideSearchType': \"HYBRID\", # optional\n",
    "            }\n",
    "        }\n",
    "    )"
   ]
  },
  {
   "cell_type": "code",
   "execution_count": 34,
   "id": "da27c1ac-12a9-44d5-b1a7-dd1cbd427348",
   "metadata": {},
   "outputs": [
    {
     "name": "stdout",
     "output_type": "stream",
     "text": [
      "[ { 'content': { 'text': 'Speech3: The day I got a gift from Banta '\n",
      "                         'Claws!        I still remember that day when I was '\n",
      "                         'just 10 year old child, I woke up early in the '\n",
      "                         'morning the day  after Christmas Eve. I immediately '\n",
      "                         'rushed towards the corner of the room where I had '\n",
      "                         'placed a  wooden box. I opened the box, inside it '\n",
      "                         'was a gift from Banta Claws!    I jumped with joy by '\n",
      "                         'just by the sight of it. Finally my wish came true. '\n",
      "                         'Along with the gift there was  also a note which '\n",
      "                         'read “Karthik, my elves told me you were a good boy '\n",
      "                         'this year, here is a gift for  you. Merry Christmas! '\n",
      "                         '– Banta”. I ran to the kitchen holding the gift, '\n",
      "                         '“Amma! Amma! See I told you  Banta was real! Look I '\n",
      "                         'got a gift from him!” Such a wonderful feeling it '\n",
      "                         'was.    I always wanted a gift from Banta, I had '\n",
      "                         'read a lot of stories about Banta Claws in '\n",
      "                         'children’s book  and in movies. He had a workshop in '\n",
      "                         'North Pole where Banta and his millions of elves '\n",
      "                         'made toys  throughout the year. When it was time for '\n",
      "                         'Christmas Banta used to bring all the toys for the '\n",
      "                         'children  in a sleigh pulled by reindeers through '\n",
      "                         'the night sky. When everyone is sleeping, Banta '\n",
      "                         'comes into  the house through the “chimney”, places '\n",
      "                         'the gifts next to the Christmas tree and vanishes. '\n",
      "                         'In olden  days all houses used to have chimneys in '\n",
      "                         'western countries where people used to light fire to '\n",
      "                         'keep  themselves warm in winter.     As a small '\n",
      "                         'child I believed all these stories were true. And I '\n",
      "                         'thought since we never decorated a  Christmas tree '\n",
      "                         'earlier, I never got a gift from Banta. So, I '\n",
      "                         'decided I will place a Christmas tree this  year so '\n",
      "                         'I even I could get a gift from Banta. But there was '\n",
      "                         'one small problem, my home does not  have a '\n",
      "                         'chimney\\uf04a . I went to my mom and asked “Amma, I '\n",
      "                         'want a chimney in my room” She was  confused and '\n",
      "                         'thought it was some new toy, so she asked me again '\n",
      "                         '“You want a WHAT?” I said  “Chimney, Banta Claws '\n",
      "                         'will come through it” She laughed and said “Beta, '\n",
      "                         'Banta can come through  the window also, he doesn’t '\n",
      "                         'need a chimney for that”. I agreed reluctantly.'},\n",
      "    'location': { 's3Location': { 'uri': 's3://hackathon-vsn-bedrock-kb/Hackathon '\n",
      "                                         'LLM training.pdf'},\n",
      "                  'type': 'S3'},\n",
      "    'score': 0.48894727},\n",
      "  { 'content': { 'text': 'So, I decided I will place a Christmas tree this  '\n",
      "                         'year so I even I could get a gift from Banta. But '\n",
      "                         'there was one small problem, my home does not  have '\n",
      "                         'a chimney\\uf04a . I went to my mom and asked “Amma, '\n",
      "                         'I want a chimney in my room” She was  confused and '\n",
      "                         'thought it was some new toy, so she asked me again '\n",
      "                         '“You want a WHAT?” I said  “Chimney, Banta Claws '\n",
      "                         'will come through it” She laughed and said “Beta, '\n",
      "                         'Banta can come through  the window also, he doesn’t '\n",
      "                         'need a chimney for that”. I agreed reluctantly.    '\n",
      "                         'Finally, the Christmas Eve had come, I decorated a '\n",
      "                         'Christmas tree with stars and lights, I had placed  '\n",
      "                         'some milk and cookies for Banta to have, and wrote a '\n",
      "                         'small note of what I wanted as a gift from  Banta! I '\n",
      "                         'placed the note inside a small sock and hanged the '\n",
      "                         'sock to the Christmas tree. Just like it  was all '\n",
      "                         'shown in the children’s books which I used to read, '\n",
      "                         'and I went to sleep.    On that night my mom had '\n",
      "                         'placed the gift which she had purchased earlier, '\n",
      "                         'along with the note in  the wooden box in my room '\n",
      "                         'without me knowing because she did not want to see '\n",
      "                         'me disappointed.  As children everyone has a wide '\n",
      "                         'imaginations. The parent’s duty is make their wishes '\n",
      "                         'come true  even if it seems very silly. Because that '\n",
      "                         'is what makes them chase after their dreams when '\n",
      "                         'they  grow up.'},\n",
      "    'location': { 's3Location': { 'uri': 's3://hackathon-vsn-bedrock-kb/Hackathon '\n",
      "                                         'LLM training.pdf'},\n",
      "                  'type': 'S3'},\n",
      "    'score': 0.41806307}]\n"
     ]
    }
   ],
   "source": [
    "query = \"Who is Banta Claws?\"\n",
    "response = retrieve(query, kb_id, 5)\n",
    "retrievalResults = response['retrievalResults']\n",
    "pp.pprint(retrievalResults)"
   ]
  },
  {
   "cell_type": "code",
   "execution_count": 35,
   "id": "8baac17b-3468-4fae-a88a-1e88479045e3",
   "metadata": {},
   "outputs": [],
   "source": [
    "# fetch context from the response\n",
    "def get_contexts(retrievalResults):\n",
    "    contexts = []\n",
    "    for retrievedResult in retrievalResults: \n",
    "        contexts.append(retrievedResult['content']['text'])\n",
    "    return contexts"
   ]
  },
  {
   "cell_type": "code",
   "execution_count": 36,
   "id": "43bbd21c-1cb9-44ba-a092-296e61a753be",
   "metadata": {},
   "outputs": [
    {
     "name": "stdout",
     "output_type": "stream",
     "text": [
      "['Speech3: The day I got a gift from Banta Claws!        I still remember that day when I was just 10 year old child, I woke up early in the morning the day  after Christmas Eve. I immediately rushed towards the corner of the room where I had placed a  wooden box. I opened the box, inside it was a gift from Banta Claws!    I jumped with joy by just by the sight of it. Finally my wish came true. Along with the gift there was  also a note which read “Karthik, my elves told me you were a good boy this year, here is a gift for  you. Merry Christmas! – Banta”. I ran to the kitchen holding the gift, “Amma! Amma! See I told you  Banta was real! Look I got a gift from him!” Such a wonderful feeling it was.    I always wanted a gift from Banta, I had read a lot of stories about Banta Claws in children’s book  and in movies. He had a workshop in North Pole where Banta and his millions of elves made toys  throughout the year. When it was time for Christmas Banta used to bring all the toys for the children  in a sleigh pulled by reindeers through the night sky. When everyone is sleeping, Banta comes into  the house through the “chimney”, places the gifts next to the Christmas tree and vanishes. In olden  days all houses used to have chimneys in western countries where people used to light fire to keep  themselves warm in winter.     As a small child I believed all these stories were true. And I thought since we never decorated a  Christmas tree earlier, I never got a gift from Banta. So, I decided I will place a Christmas tree this  year so I even I could get a gift from Banta. But there was one small problem, my home does not  have a chimney\\uf04a . I went to my mom and asked “Amma, I want a chimney in my room” She was  confused and thought it was some new toy, so she asked me again “You want a WHAT?” I said  “Chimney, Banta Claws will come through it” She laughed and said “Beta, Banta can come through  the window also, he doesn’t need a chimney for that”. I agreed reluctantly.', 'So, I decided I will place a Christmas tree this  year so I even I could get a gift from Banta. But there was one small problem, my home does not  have a chimney\\uf04a . I went to my mom and asked “Amma, I want a chimney in my room” She was  confused and thought it was some new toy, so she asked me again “You want a WHAT?” I said  “Chimney, Banta Claws will come through it” She laughed and said “Beta, Banta can come through  the window also, he doesn’t need a chimney for that”. I agreed reluctantly.    Finally, the Christmas Eve had come, I decorated a Christmas tree with stars and lights, I had placed  some milk and cookies for Banta to have, and wrote a small note of what I wanted as a gift from  Banta! I placed the note inside a small sock and hanged the sock to the Christmas tree. Just like it  was all shown in the children’s books which I used to read, and I went to sleep.    On that night my mom had placed the gift which she had purchased earlier, along with the note in  the wooden box in my room without me knowing because she did not want to see me disappointed.  As children everyone has a wide imaginations. The parent’s duty is make their wishes come true  even if it seems very silly. Because that is what makes them chase after their dreams when they  grow up.']\n"
     ]
    }
   ],
   "source": [
    "contexts = get_contexts(retrievalResults)\n",
    "print(contexts)"
   ]
  },
  {
   "cell_type": "code",
   "execution_count": 37,
   "id": "d1ac8b55-5494-4946-9de2-565cd30ffcaf",
   "metadata": {},
   "outputs": [],
   "source": [
    "prompt = f\"\"\"\n",
    "Human: You are a financial advisor AI system, and provides answers to questions by using fact based and statistical information when possible. \n",
    "Use the following pieces of information to provide a concise answer to the question enclosed in <question> tags. \n",
    "If you don't know the answer, just say that you don't know, don't try to make up an answer.\n",
    "<context>\n",
    "{contexts}\n",
    "</context>\n",
    "\n",
    "<question>\n",
    "{query}\n",
    "</question>\n",
    "\n",
    "The response should be specific and use statistics or numbers when possible.\n",
    "\n",
    "Assistant:\"\"\""
   ]
  },
  {
   "cell_type": "code",
   "execution_count": 38,
   "id": "e20acb11-38c7-4e88-925b-91808ef192c6",
   "metadata": {},
   "outputs": [],
   "source": [
    "# payload with model paramters\n",
    "messages=[{ \"role\":'user', \"content\":[{'type':'text','text': prompt.format(contexts, query)}]}]\n",
    "sonnet_payload = json.dumps({\n",
    "    \"anthropic_version\": \"bedrock-2023-05-31\",\n",
    "    \"max_tokens\": 512,\n",
    "    \"messages\": messages,\n",
    "    \"temperature\": 0.5,\n",
    "    \"top_p\": 1\n",
    "        }  )"
   ]
  },
  {
   "cell_type": "code",
   "execution_count": 39,
   "id": "af9cfb80-d145-451c-b4b8-9cf85d6fe3fa",
   "metadata": {},
   "outputs": [
    {
     "name": "stdout",
     "output_type": "stream",
     "text": [
      "Based on the given context, Banta Claws appears to be a reference to Santa Claus, the legendary figure who is said to bring gifts to well-behaved children on Christmas Eve. The context mentions stories and beliefs about Banta Claws (Santa Claus) having a workshop at the North Pole where he and his elves make toys throughout the year. It also talks about him delivering gifts by coming through chimneys at night while children are asleep, leaving gifts under the Christmas tree. So Banta Claws seems to be the Indian/desi way of referring to the popular Christmas folklore character Santa Claus.\n"
     ]
    }
   ],
   "source": [
    "modelId = 'anthropic.claude-3-sonnet-20240229-v1:0' # change this to use a different version from the model provider\n",
    "accept = 'application/json'\n",
    "contentType = 'application/json'\n",
    "response = bedrock_client.invoke_model(body=sonnet_payload, modelId=modelId, accept=accept, contentType=contentType)\n",
    "response_body = json.loads(response.get('body').read())\n",
    "response_text = response_body.get('content')[0]['text']\n",
    "\n",
    "print(response_text)"
   ]
  },
  {
   "cell_type": "code",
   "execution_count": 40,
   "id": "df3340bb-5e21-4ab1-bc72-56f43912ba30",
   "metadata": {},
   "outputs": [],
   "source": [
    "from langchain_aws import ChatBedrock\n",
    "from langchain.retrievers.bedrock import AmazonKnowledgeBasesRetriever\n",
    "\n",
    "llm = ChatBedrock(model_id=modelId, \n",
    "                  client=bedrock_client)"
   ]
  },
  {
   "cell_type": "code",
   "execution_count": 45,
   "id": "db9dbcc5-a373-4d93-a0b0-3a19e2a25f19",
   "metadata": {},
   "outputs": [
    {
     "name": "stdout",
     "output_type": "stream",
     "text": [
      "[Document(metadata={'location': {'type': 'S3', 's3Location': {'uri': 's3://hackathon-vsn-bedrock-kb/Hackathon LLM training.pdf'}}, 'score': 0.48894727}, page_content='Speech3: The day I got a gift from Banta Claws!        I still remember that day when I was just 10 year old child, I woke up early in the morning the day  after Christmas Eve. I immediately rushed towards the corner of the room where I had placed a  wooden box. I opened the box, inside it was a gift from Banta Claws!    I jumped with joy by just by the sight of it. Finally my wish came true. Along with the gift there was  also a note which read “Karthik, my elves told me you were a good boy this year, here is a gift for  you. Merry Christmas! – Banta”. I ran to the kitchen holding the gift, “Amma! Amma! See I told you  Banta was real! Look I got a gift from him!” Such a wonderful feeling it was.    I always wanted a gift from Banta, I had read a lot of stories about Banta Claws in children’s book  and in movies. He had a workshop in North Pole where Banta and his millions of elves made toys  throughout the year. When it was time for Christmas Banta used to bring all the toys for the children  in a sleigh pulled by reindeers through the night sky. When everyone is sleeping, Banta comes into  the house through the “chimney”, places the gifts next to the Christmas tree and vanishes. In olden  days all houses used to have chimneys in western countries where people used to light fire to keep  themselves warm in winter.     As a small child I believed all these stories were true. And I thought since we never decorated a  Christmas tree earlier, I never got a gift from Banta. So, I decided I will place a Christmas tree this  year so I even I could get a gift from Banta. But there was one small problem, my home does not  have a chimney\\uf04a . I went to my mom and asked “Amma, I want a chimney in my room” She was  confused and thought it was some new toy, so she asked me again “You want a WHAT?” I said  “Chimney, Banta Claws will come through it” She laughed and said “Beta, Banta can come through  the window also, he doesn’t need a chimney for that”. I agreed reluctantly.'), Document(metadata={'location': {'type': 'S3', 's3Location': {'uri': 's3://hackathon-vsn-bedrock-kb/Hackathon LLM training.pdf'}}, 'score': 0.41806307}, page_content='So, I decided I will place a Christmas tree this  year so I even I could get a gift from Banta. But there was one small problem, my home does not  have a chimney\\uf04a . I went to my mom and asked “Amma, I want a chimney in my room” She was  confused and thought it was some new toy, so she asked me again “You want a WHAT?” I said  “Chimney, Banta Claws will come through it” She laughed and said “Beta, Banta can come through  the window also, he doesn’t need a chimney for that”. I agreed reluctantly.    Finally, the Christmas Eve had come, I decorated a Christmas tree with stars and lights, I had placed  some milk and cookies for Banta to have, and wrote a small note of what I wanted as a gift from  Banta! I placed the note inside a small sock and hanged the sock to the Christmas tree. Just like it  was all shown in the children’s books which I used to read, and I went to sleep.    On that night my mom had placed the gift which she had purchased earlier, along with the note in  the wooden box in my room without me knowing because she did not want to see me disappointed.  As children everyone has a wide imaginations. The parent’s duty is make their wishes come true  even if it seems very silly. Because that is what makes them chase after their dreams when they  grow up.')]\n"
     ]
    }
   ],
   "source": [
    "query = \"Who is Banta Claws?\"\n",
    "retriever = AmazonKnowledgeBasesRetriever(\n",
    "        knowledge_base_id=kb_id,\n",
    "        retrieval_config={\"vectorSearchConfiguration\": \n",
    "                          {\"numberOfResults\": 4,\n",
    "                           #'overrideSearchType': \"SEMANTIC\", # optional\n",
    "                           }\n",
    "                          },\n",
    "        # endpoint_url=endpoint_url,\n",
    "        # region_name=region,\n",
    "        # credentials_profile_name=\"<profile_name>\",\n",
    "    )\n",
    "docs = retriever.get_relevant_documents(\n",
    "        query=query\n",
    "    )\n",
    "print(docs)"
   ]
  },
  {
   "cell_type": "code",
   "execution_count": 46,
   "id": "1d28a454-8130-45e7-91c7-eb9f05c03125",
   "metadata": {},
   "outputs": [],
   "source": [
    "from langchain.chains import create_retrieval_chain\n",
    "from langchain.chains.combine_documents import create_stuff_documents_chain\n",
    "from langchain_core.prompts import ChatPromptTemplate\n",
    "\n",
    "system_prompt = (\n",
    "    \"You are an assistant for question-answering tasks. \"\n",
    "    \"Use the following pieces of retrieved context to answer \"\n",
    "    \"the question. If you don't know the answer, say that you \"\n",
    "    \"don't know. Use three sentences maximum and keep the \"\n",
    "    \"answer concise.\"\n",
    "    \"\\n\\n\"\n",
    "    \"{context}\"\n",
    ")\n",
    "\n",
    "prompt = ChatPromptTemplate.from_messages(\n",
    "    [\n",
    "        (\"system\", system_prompt),\n",
    "        (\"human\", \"{input}\"),\n",
    "    ]\n",
    ")\n",
    "\n",
    "\n",
    "question_answer_chain = create_stuff_documents_chain(llm, prompt)\n",
    "rag_chain = create_retrieval_chain(retriever, question_answer_chain)"
   ]
  },
  {
   "cell_type": "code",
   "execution_count": 47,
   "id": "53cfaf16-5345-424a-b9c9-c6627e8f995a",
   "metadata": {},
   "outputs": [
    {
     "name": "stdout",
     "output_type": "stream",
     "text": [
      "('Based on the context provided, Banta Claws seems to be the Indian equivalent '\n",
      " 'or version of Santa Claus. The passage describes Banta Claws as a figure who '\n",
      " 'brings gifts to children on Christmas Eve, lives at the North Pole with '\n",
      " 'elves who make toys, travels on a sleigh pulled by reindeers, and enters '\n",
      " 'houses through chimneys to leave gifts. This closely mirrors the traditional '\n",
      " 'Santa Claus story, but with the name adapted to \"Banta Claws\" in this Indian '\n",
      " 'context.')\n"
     ]
    }
   ],
   "source": [
    "response = rag_chain.invoke({\"input\": query})\n",
    "pp.pprint(response[\"answer\"])"
   ]
  },
  {
   "cell_type": "code",
   "execution_count": 48,
   "id": "e232225b-4452-4f42-843e-48422ee0713a",
   "metadata": {},
   "outputs": [
    {
     "name": "stdout",
     "output_type": "stream",
     "text": [
      "('Based on the context provided, there are a few key differences observed '\n",
      " 'between Banta Claws and the traditional Santa Claus folklore character:\\n'\n",
      " '\\n'\n",
      " '1) Name: Banta Claws is the name used instead of Santa Claus.\\n'\n",
      " '\\n'\n",
      " '2) Entry method: While Santa is said to enter houses through the chimney, '\n",
      " 'the mother mentions that Banta can come through the window as well since '\n",
      " \"their home doesn't have a chimney.\\n\"\n",
      " '\\n'\n",
      " '3) Cultural context: The story seems to be set in an Indian cultural '\n",
      " 'context, whereas the Santa Claus tales originate from Western/Christian '\n",
      " 'traditions.\\n'\n",
      " '\\n'\n",
      " 'Overall, Banta Claws appears to be an Indian/local variation or adaptation '\n",
      " 'of the popular Santa Claus character and Christmas traditions to fit the '\n",
      " 'cultural context. But the core idea of a gift-giver for children remains the '\n",
      " 'same.')\n"
     ]
    }
   ],
   "source": [
    "query = \"What differences do you observe between Banta Claws and the folklore character Santa Claus?\"\n",
    "response = rag_chain.invoke({\"input\": query})\n",
    "pp.pprint(response[\"answer\"])"
   ]
  },
  {
   "cell_type": "code",
   "execution_count": null,
   "id": "dc82523d-2485-48e0-9db0-f669cfae3cba",
   "metadata": {},
   "outputs": [],
   "source": []
  }
 ],
 "metadata": {
  "kernelspec": {
   "display_name": "Python 3 (ipykernel)",
   "language": "python",
   "name": "python3"
  },
  "language_info": {
   "codemirror_mode": {
    "name": "ipython",
    "version": 3
   },
   "file_extension": ".py",
   "mimetype": "text/x-python",
   "name": "python",
   "nbconvert_exporter": "python",
   "pygments_lexer": "ipython3",
   "version": "3.9.13"
  }
 },
 "nbformat": 4,
 "nbformat_minor": 5
}
